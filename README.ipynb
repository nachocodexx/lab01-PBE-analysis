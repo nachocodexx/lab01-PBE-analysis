{
 "cells": [
  {
   "cell_type": "code",
   "execution_count": 467,
   "id": "gross-default",
   "metadata": {},
   "outputs": [],
   "source": [
    "import pandas as pd\n",
    "import numpy as np\n",
    "import seaborn as sns\n",
    "import matplotlib.pyplot as plt\n",
    "sns.set_theme(style=\"ticks\", color_codes=True)\n",
    "plt.rcParams[\"figure.figsize\"] = (20,10)"
   ]
  },
  {
   "cell_type": "code",
   "execution_count": 466,
   "id": "located-summit",
   "metadata": {},
   "outputs": [],
   "source": [
    "def getTasa(time,corpus_size):\n",
    "    corpus_size_bits = corpus_size*8\n",
    "    corpus_size_mb   = corpus_size/125000\n",
    "    tasa_bits_secs   = corpus_size_bits/time\n",
    "    tasa_bytes_secs  = corpus_size/time\n",
    "    tasa_mb_secs     = corpus_size_mb/time\n",
    "    return {'BITS/SEC':(corpus_size_bits,tasa_bits_secs),'BYTES/SEC':(corpus_size,tasa_bytes_secs),'MB/SEC':(corpus_size_mb,tasa_mb_secs)}\n",
    "def getInfo(**kwargs):\n",
    "    dfa              = kwargs.get('df') \n",
    "    time             = dfa.TIME.sum()/1000\n",
    "    time_min         = time/60\n",
    "    corpus_size      = dfa.FILE_SIZE.sum()\n",
    "    tasas            = getTasa(time,corpus_size)\n",
    "    tasa_bits_secs   = tasas['BITS/SEC']\n",
    "    tasa_bytes_secs  = tasas['BYTES/SEC']\n",
    "    tasa_mb_secs     = tasas['MB/SEC']\n",
    "    keyLen           = dfa.KEY_LENGTH.unique()[0]\n",
    "    cipher           = dfa.CIPHER.unique()[0]+\"[{}]\".format(keyLen)\n",
    "    \n",
    "    return (cipher,time,time_min,*tasa_bits_secs,*tasa_bytes_secs,*tasa_mb_secs)\n",
    "    "
   ]
  },
  {
   "cell_type": "markdown",
   "id": "sealed-terror",
   "metadata": {},
   "source": [
    "# Cipher(Encrypt mode)"
   ]
  },
  {
   "cell_type": "code",
   "execution_count": 474,
   "id": "peripheral-concept",
   "metadata": {},
   "outputs": [
    {
     "data": {
      "text/html": [
       "<div>\n",
       "<style scoped>\n",
       "    .dataframe tbody tr th:only-of-type {\n",
       "        vertical-align: middle;\n",
       "    }\n",
       "\n",
       "    .dataframe tbody tr th {\n",
       "        vertical-align: top;\n",
       "    }\n",
       "\n",
       "    .dataframe thead th {\n",
       "        text-align: right;\n",
       "    }\n",
       "</style>\n",
       "<table border=\"1\" class=\"dataframe\">\n",
       "  <thead>\n",
       "    <tr style=\"text-align: right;\">\n",
       "      <th></th>\n",
       "      <th>FILE_NAME</th>\n",
       "      <th>FILE_SIZE</th>\n",
       "      <th>TIME</th>\n",
       "      <th>KDF</th>\n",
       "      <th>CIPHER</th>\n",
       "      <th>TRANSFORMATION</th>\n",
       "      <th>KEY_LENGTH</th>\n",
       "    </tr>\n",
       "  </thead>\n",
       "  <tbody>\n",
       "    <tr>\n",
       "      <th>4704</th>\n",
       "      <td>650.txt</td>\n",
       "      <td>1048575</td>\n",
       "      <td>375</td>\n",
       "      <td>PBKDF2WithHmacSHA256</td>\n",
       "      <td>AES</td>\n",
       "      <td>AES/CBC/PKCS5Padding</td>\n",
       "      <td>256</td>\n",
       "    </tr>\n",
       "    <tr>\n",
       "      <th>4705</th>\n",
       "      <td>916.txt</td>\n",
       "      <td>1048575</td>\n",
       "      <td>113</td>\n",
       "      <td>PBKDF2WithHmacSHA256</td>\n",
       "      <td>AES</td>\n",
       "      <td>AES/CBC/PKCS5Padding</td>\n",
       "      <td>256</td>\n",
       "    </tr>\n",
       "    <tr>\n",
       "      <th>4706</th>\n",
       "      <td>276.txt</td>\n",
       "      <td>1048575</td>\n",
       "      <td>90</td>\n",
       "      <td>PBKDF2WithHmacSHA256</td>\n",
       "      <td>AES</td>\n",
       "      <td>AES/CBC/PKCS5Padding</td>\n",
       "      <td>256</td>\n",
       "    </tr>\n",
       "    <tr>\n",
       "      <th>4707</th>\n",
       "      <td>1483.txt</td>\n",
       "      <td>1048575</td>\n",
       "      <td>69</td>\n",
       "      <td>PBKDF2WithHmacSHA256</td>\n",
       "      <td>AES</td>\n",
       "      <td>AES/CBC/PKCS5Padding</td>\n",
       "      <td>256</td>\n",
       "    </tr>\n",
       "    <tr>\n",
       "      <th>4708</th>\n",
       "      <td>1122.txt</td>\n",
       "      <td>1048575</td>\n",
       "      <td>64</td>\n",
       "      <td>PBKDF2WithHmacSHA256</td>\n",
       "      <td>AES</td>\n",
       "      <td>AES/CBC/PKCS5Padding</td>\n",
       "      <td>256</td>\n",
       "    </tr>\n",
       "    <tr>\n",
       "      <th>...</th>\n",
       "      <td>...</td>\n",
       "      <td>...</td>\n",
       "      <td>...</td>\n",
       "      <td>...</td>\n",
       "      <td>...</td>\n",
       "      <td>...</td>\n",
       "      <td>...</td>\n",
       "    </tr>\n",
       "    <tr>\n",
       "      <th>5875</th>\n",
       "      <td>518.txt</td>\n",
       "      <td>1048575</td>\n",
       "      <td>44</td>\n",
       "      <td>PBKDF2WithHmacSHA256</td>\n",
       "      <td>AES</td>\n",
       "      <td>AES/CBC/PKCS5Padding</td>\n",
       "      <td>256</td>\n",
       "    </tr>\n",
       "    <tr>\n",
       "      <th>5876</th>\n",
       "      <td>115.txt</td>\n",
       "      <td>1048575</td>\n",
       "      <td>51</td>\n",
       "      <td>PBKDF2WithHmacSHA256</td>\n",
       "      <td>AES</td>\n",
       "      <td>AES/CBC/PKCS5Padding</td>\n",
       "      <td>256</td>\n",
       "    </tr>\n",
       "    <tr>\n",
       "      <th>5877</th>\n",
       "      <td>512.txt</td>\n",
       "      <td>1048575</td>\n",
       "      <td>48</td>\n",
       "      <td>PBKDF2WithHmacSHA256</td>\n",
       "      <td>AES</td>\n",
       "      <td>AES/CBC/PKCS5Padding</td>\n",
       "      <td>256</td>\n",
       "    </tr>\n",
       "    <tr>\n",
       "      <th>5878</th>\n",
       "      <td>643.txt</td>\n",
       "      <td>1048575</td>\n",
       "      <td>51</td>\n",
       "      <td>PBKDF2WithHmacSHA256</td>\n",
       "      <td>AES</td>\n",
       "      <td>AES/CBC/PKCS5Padding</td>\n",
       "      <td>256</td>\n",
       "    </tr>\n",
       "    <tr>\n",
       "      <th>5879</th>\n",
       "      <td>699.txt</td>\n",
       "      <td>1048575</td>\n",
       "      <td>47</td>\n",
       "      <td>PBKDF2WithHmacSHA256</td>\n",
       "      <td>AES</td>\n",
       "      <td>AES/CBC/PKCS5Padding</td>\n",
       "      <td>256</td>\n",
       "    </tr>\n",
       "  </tbody>\n",
       "</table>\n",
       "<p>1176 rows × 7 columns</p>\n",
       "</div>"
      ],
      "text/plain": [
       "     FILE_NAME  FILE_SIZE  TIME                   KDF CIPHER  \\\n",
       "4704   650.txt    1048575   375  PBKDF2WithHmacSHA256    AES   \n",
       "4705   916.txt    1048575   113  PBKDF2WithHmacSHA256    AES   \n",
       "4706   276.txt    1048575    90  PBKDF2WithHmacSHA256    AES   \n",
       "4707  1483.txt    1048575    69  PBKDF2WithHmacSHA256    AES   \n",
       "4708  1122.txt    1048575    64  PBKDF2WithHmacSHA256    AES   \n",
       "...        ...        ...   ...                   ...    ...   \n",
       "5875   518.txt    1048575    44  PBKDF2WithHmacSHA256    AES   \n",
       "5876   115.txt    1048575    51  PBKDF2WithHmacSHA256    AES   \n",
       "5877   512.txt    1048575    48  PBKDF2WithHmacSHA256    AES   \n",
       "5878   643.txt    1048575    51  PBKDF2WithHmacSHA256    AES   \n",
       "5879   699.txt    1048575    47  PBKDF2WithHmacSHA256    AES   \n",
       "\n",
       "            TRANSFORMATION  KEY_LENGTH  \n",
       "4704  AES/CBC/PKCS5Padding         256  \n",
       "4705  AES/CBC/PKCS5Padding         256  \n",
       "4706  AES/CBC/PKCS5Padding         256  \n",
       "4707  AES/CBC/PKCS5Padding         256  \n",
       "4708  AES/CBC/PKCS5Padding         256  \n",
       "...                    ...         ...  \n",
       "5875  AES/CBC/PKCS5Padding         256  \n",
       "5876  AES/CBC/PKCS5Padding         256  \n",
       "5877  AES/CBC/PKCS5Padding         256  \n",
       "5878  AES/CBC/PKCS5Padding         256  \n",
       "5879  AES/CBC/PKCS5Padding         256  \n",
       "\n",
       "[1176 rows x 7 columns]"
      ]
     },
     "execution_count": 474,
     "metadata": {},
     "output_type": "execute_result"
    }
   ],
   "source": [
    "df      = pd.read_csv('data.csv')\n",
    "des     = df.loc[df.CIPHER=='DES']\n",
    "desede  = df.loc[df.CIPHER=='DESede']\n",
    "aes_128 = df.loc[df.CIPHER=='AES'].loc[df.KEY_LENGTH==128]\n",
    "aes_192 = df.loc[df.CIPHER=='AES'].loc[df.KEY_LENGTH==192]\n",
    "aes_256 = df.loc[df.CIPHER=='AES'].loc[df.KEY_LENGTH==256].loc[df.KDF!='PBKDF2WithHmacSHA384'].loc[df.KDF!='PBKDF2WithHmacSHA512']\n",
    "# \n",
    "aes_256_sha384 = df.loc[df.CIPHER=='AES'].loc[df.KEY_LENGTH==256].loc[df.KDF=='PBKDF2WithHmacSHA384']\n",
    "df.loc[aes_256_sha384.index,'CIPHER']=\"AES_SHA384\"\n",
    "aes_256_sha384 = df.loc[df.CIPHER=='AES_SHA384'].loc[df.KEY_LENGTH==256].loc[df.KDF=='PBKDF2WithHmacSHA384']\n",
    "# \n",
    "aes_256_sha512 = df.loc[df.CIPHER=='AES'].loc[df.KEY_LENGTH==256].loc[df.KDF=='PBKDF2WithHmacSHA512']\n",
    "df.loc[aes_256_sha512.index,'CIPHER']=\"AES_SHA512\"\n",
    "aes_256_sha512 = df.loc[df.CIPHER=='AES_SHA512'].loc[df.KEY_LENGTH==256].loc[df.KDF=='PBKDF2WithHmacSHA512']\n",
    "infos = list(map(lambda x:getInfo(df=x),(des,desede,aes_128,aes_192,aes_256,aes_256_sha384,aes_256_sha512)))\n",
    "aes_256"
   ]
  },
  {
   "cell_type": "markdown",
   "id": "manufactured-bibliography",
   "metadata": {},
   "source": [
    "# Cipher(Decrypt mode)"
   ]
  },
  {
   "cell_type": "code",
   "execution_count": 482,
   "id": "integrated-thread",
   "metadata": {},
   "outputs": [],
   "source": [
    "dff  = pd.read_csv('data_decrypted.csv')\n",
    "dff.head(5)\n",
    "_des     = dff.loc[dff.CIPHER=='DES']\n",
    "_desede  = dff.loc[dff.CIPHER=='DESede']\n",
    "_aes_128 = dff.loc[dff.CIPHER=='AES'].loc[dff.KEY_LENGTH==128]\n",
    "_aes_192 = dff.loc[dff.CIPHER=='AES'].loc[dff.KEY_LENGTH==192]\n",
    "_aes_256 = dff.loc[dff.CIPHER=='AES'].loc[dff.KEY_LENGTH==256].loc[dff.KDF!='PBKDF2WithHmacSHA384'].loc[df.KDF!='PBKDF2WithHmacSHA512']\n",
    "\n",
    "\n",
    "\n",
    "# \n",
    "_aes_256_sha384 = dff.loc[df.CIPHER=='AES'].loc[dff.KEY_LENGTH==256].loc[dff.KDF=='PBKDF2WithHmacSHA384']\n",
    "dff.loc[aes_256_sha384.index,'CIPHER']=\"AES_SHA384\"\n",
    "_aes_256_sha384 = dff.loc[dff.CIPHER=='AES_SHA384'].loc[dff.KEY_LENGTH==256].loc[dff.KDF=='PBKDF2WithHmacSHA384']\n",
    "# \n",
    "_aes_256_sha512 = dff.loc[df.CIPHER=='AES'].loc[dff.KEY_LENGTH==256].loc[dff.KDF=='PBKDF2WithHmacSHA512']\n",
    "dff.loc[aes_256_sha512.index,'CIPHER']=\"AES_SHA512\"\n",
    "_aes_256_sha512 = dff.loc[df.CIPHER=='AES_SHA512'].loc[dff.KEY_LENGTH==256].loc[dff.KDF=='PBKDF2WithHmacSHA512']\n",
    "_infos = list(map(lambda x:getInfo(df=x),(_des,_desede,_aes_128,_aes_192,_aes_256,_aes_256_sha384,_aes_256_sha512)))"
   ]
  },
  {
   "cell_type": "markdown",
   "id": "aboriginal-tomorrow",
   "metadata": {},
   "source": [
    "# RESULTADOS"
   ]
  },
  {
   "cell_type": "code",
   "execution_count": 483,
   "id": "decreased-runner",
   "metadata": {},
   "outputs": [
    {
     "data": {
      "text/html": [
       "<div>\n",
       "<style scoped>\n",
       "    .dataframe tbody tr th:only-of-type {\n",
       "        vertical-align: middle;\n",
       "    }\n",
       "\n",
       "    .dataframe tbody tr th {\n",
       "        vertical-align: top;\n",
       "    }\n",
       "\n",
       "    .dataframe thead th {\n",
       "        text-align: right;\n",
       "    }\n",
       "</style>\n",
       "<table border=\"1\" class=\"dataframe\">\n",
       "  <thead>\n",
       "    <tr style=\"text-align: right;\">\n",
       "      <th></th>\n",
       "      <th>CIPHER</th>\n",
       "      <th>TIME(SEC)</th>\n",
       "      <th>TIME(MIN)</th>\n",
       "      <th>SIZE(BITS)</th>\n",
       "      <th>TASA(BITS/SEC)</th>\n",
       "      <th>SIZE(BYTES)</th>\n",
       "      <th>TASA(BYTES/SEC)</th>\n",
       "      <th>SIZE(MB)</th>\n",
       "      <th>TASA(MB/SEC)</th>\n",
       "    </tr>\n",
       "  </thead>\n",
       "  <tbody>\n",
       "    <tr>\n",
       "      <th>2</th>\n",
       "      <td>AES[128]</td>\n",
       "      <td>122.400</td>\n",
       "      <td>2.040000</td>\n",
       "      <td>20665220656</td>\n",
       "      <td>1.688335e+08</td>\n",
       "      <td>2583152582</td>\n",
       "      <td>2.110419e+07</td>\n",
       "      <td>20665.220656</td>\n",
       "      <td>168.833502</td>\n",
       "    </tr>\n",
       "    <tr>\n",
       "      <th>6</th>\n",
       "      <td>AES_SHA512[256]</td>\n",
       "      <td>127.299</td>\n",
       "      <td>2.121650</td>\n",
       "      <td>20665220656</td>\n",
       "      <td>1.623361e+08</td>\n",
       "      <td>2583152582</td>\n",
       "      <td>2.029201e+07</td>\n",
       "      <td>20665.220656</td>\n",
       "      <td>162.336080</td>\n",
       "    </tr>\n",
       "    <tr>\n",
       "      <th>3</th>\n",
       "      <td>AES[192]</td>\n",
       "      <td>133.092</td>\n",
       "      <td>2.218200</td>\n",
       "      <td>20665220656</td>\n",
       "      <td>1.552702e+08</td>\n",
       "      <td>2583152582</td>\n",
       "      <td>1.940877e+07</td>\n",
       "      <td>20665.220656</td>\n",
       "      <td>155.270194</td>\n",
       "    </tr>\n",
       "    <tr>\n",
       "      <th>4</th>\n",
       "      <td>AES[256]</td>\n",
       "      <td>137.553</td>\n",
       "      <td>2.292550</td>\n",
       "      <td>20665220656</td>\n",
       "      <td>1.502346e+08</td>\n",
       "      <td>2583152582</td>\n",
       "      <td>1.877933e+07</td>\n",
       "      <td>20665.220656</td>\n",
       "      <td>150.234605</td>\n",
       "    </tr>\n",
       "    <tr>\n",
       "      <th>5</th>\n",
       "      <td>AES_SHA384[256]</td>\n",
       "      <td>140.400</td>\n",
       "      <td>2.340000</td>\n",
       "      <td>20665220656</td>\n",
       "      <td>1.471882e+08</td>\n",
       "      <td>2583152582</td>\n",
       "      <td>1.839852e+07</td>\n",
       "      <td>20665.220656</td>\n",
       "      <td>147.188181</td>\n",
       "    </tr>\n",
       "    <tr>\n",
       "      <th>0</th>\n",
       "      <td>DES[64]</td>\n",
       "      <td>202.504</td>\n",
       "      <td>3.375067</td>\n",
       "      <td>20665220656</td>\n",
       "      <td>1.020485e+08</td>\n",
       "      <td>2583152582</td>\n",
       "      <td>1.275606e+07</td>\n",
       "      <td>20665.220656</td>\n",
       "      <td>102.048457</td>\n",
       "    </tr>\n",
       "    <tr>\n",
       "      <th>1</th>\n",
       "      <td>DESede[192]</td>\n",
       "      <td>396.793</td>\n",
       "      <td>6.613217</td>\n",
       "      <td>20665220656</td>\n",
       "      <td>5.208061e+07</td>\n",
       "      <td>2583152582</td>\n",
       "      <td>6.510076e+06</td>\n",
       "      <td>20665.220656</td>\n",
       "      <td>52.080608</td>\n",
       "    </tr>\n",
       "  </tbody>\n",
       "</table>\n",
       "</div>"
      ],
      "text/plain": [
       "            CIPHER  TIME(SEC)  TIME(MIN)   SIZE(BITS)  TASA(BITS/SEC)  \\\n",
       "2         AES[128]    122.400   2.040000  20665220656    1.688335e+08   \n",
       "6  AES_SHA512[256]    127.299   2.121650  20665220656    1.623361e+08   \n",
       "3         AES[192]    133.092   2.218200  20665220656    1.552702e+08   \n",
       "4         AES[256]    137.553   2.292550  20665220656    1.502346e+08   \n",
       "5  AES_SHA384[256]    140.400   2.340000  20665220656    1.471882e+08   \n",
       "0          DES[64]    202.504   3.375067  20665220656    1.020485e+08   \n",
       "1      DESede[192]    396.793   6.613217  20665220656    5.208061e+07   \n",
       "\n",
       "   SIZE(BYTES)  TASA(BYTES/SEC)      SIZE(MB)  TASA(MB/SEC)  \n",
       "2   2583152582     2.110419e+07  20665.220656    168.833502  \n",
       "6   2583152582     2.029201e+07  20665.220656    162.336080  \n",
       "3   2583152582     1.940877e+07  20665.220656    155.270194  \n",
       "4   2583152582     1.877933e+07  20665.220656    150.234605  \n",
       "5   2583152582     1.839852e+07  20665.220656    147.188181  \n",
       "0   2583152582     1.275606e+07  20665.220656    102.048457  \n",
       "1   2583152582     6.510076e+06  20665.220656     52.080608  "
      ]
     },
     "execution_count": 483,
     "metadata": {},
     "output_type": "execute_result"
    }
   ],
   "source": [
    "info_df = pd.DataFrame(infos,columns=[\"CIPHER\",\"TIME(SEC)\",\"TIME(MIN)\",\"SIZE(BITS)\",\"TASA(BITS/SEC)\",\"SIZE(BYTES)\",\"TASA(BYTES/SEC)\",\"SIZE(MB)\",\"TASA(MB/SEC)\"])\n",
    "info_df = info_df.sort_values(\"TIME(SEC)\",ascending=True)\n",
    "info_df"
   ]
  },
  {
   "cell_type": "code",
   "execution_count": 491,
   "id": "sealed-clothing",
   "metadata": {},
   "outputs": [
    {
     "data": {
      "text/plain": [
       "<AxesSubplot:xlabel='CIPHER', ylabel='TIME(SEC)'>"
      ]
     },
     "execution_count": 491,
     "metadata": {},
     "output_type": "execute_result"
    },
    {
     "data": {
      "image/png": "[encoded data removed]",
      "text/plain": [
       "<Figure size 1440x720 with 1 Axes>"
      ]
     },
     "metadata": {},
     "output_type": "display_data"
    }
   ],
   "source": [
    "# ciphers  = info_df.CIPHER\n",
    "# time_sec = info_df['TIME(SEC)']\n",
    "sns.barplot(x=\"CIPHER\",y=\"TIME(SEC)\",data=info_df)"
   ]
  },
  {
   "cell_type": "code",
   "execution_count": 485,
   "id": "surrounded-subscriber",
   "metadata": {},
   "outputs": [
    {
     "data": {
      "text/plain": [
       "<AxesSubplot:xlabel='CIPHER', ylabel='TASA(BITS/SEC)'>"
      ]
     },
     "execution_count": 485,
     "metadata": {},
     "output_type": "execute_result"
    },
    {
     "data": {
      "image/png": "[encoded data removed]",
      "text/plain": [
       "<Figure size 1440x720 with 1 Axes>"
      ]
     },
     "metadata": {},
     "output_type": "display_data"
    }
   ],
   "source": [
    "sns.barplot(x=\"CIPHER\",y=\"TASA(BITS/SEC)\",data=info_df)"
   ]
  },
  {
   "cell_type": "code",
   "execution_count": 486,
   "id": "peaceful-birmingham",
   "metadata": {},
   "outputs": [
    {
     "data": {
      "text/plain": [
       "<AxesSubplot:xlabel='CIPHER', ylabel='TASA(MB/SEC)'>"
      ]
     },
     "execution_count": 486,
     "metadata": {},
     "output_type": "execute_result"
    },
    {
     "data": {
      "image/png": "[encoded data removed]",
      "text/plain": [
       "<Figure size 1440x720 with 1 Axes>"
      ]
     },
     "metadata": {},
     "output_type": "display_data"
    }
   ],
   "source": [
    "\n",
    "sns.barplot(x=\"CIPHER\",y=\"TASA(MB/SEC)\",data=info_df)"
   ]
  },
  {
   "cell_type": "markdown",
   "id": "civilian-cologne",
   "metadata": {},
   "source": [
    "# Decrypt Mode"
   ]
  },
  {
   "cell_type": "code",
   "execution_count": 487,
   "id": "ready-eclipse",
   "metadata": {},
   "outputs": [
    {
     "data": {
      "text/html": [
       "<div>\n",
       "<style scoped>\n",
       "    .dataframe tbody tr th:only-of-type {\n",
       "        vertical-align: middle;\n",
       "    }\n",
       "\n",
       "    .dataframe tbody tr th {\n",
       "        vertical-align: top;\n",
       "    }\n",
       "\n",
       "    .dataframe thead th {\n",
       "        text-align: right;\n",
       "    }\n",
       "</style>\n",
       "<table border=\"1\" class=\"dataframe\">\n",
       "  <thead>\n",
       "    <tr style=\"text-align: right;\">\n",
       "      <th></th>\n",
       "      <th>CIPHER</th>\n",
       "      <th>TIME(SEC)</th>\n",
       "      <th>TIME(MIN)</th>\n",
       "      <th>SIZE(BITS)</th>\n",
       "      <th>TASA(BITS/SEC)</th>\n",
       "      <th>SIZE(BYTES)</th>\n",
       "      <th>TASA(BYTES/SEC)</th>\n",
       "      <th>SIZE(MB)</th>\n",
       "      <th>TASA(MB/SEC)</th>\n",
       "    </tr>\n",
       "  </thead>\n",
       "  <tbody>\n",
       "    <tr>\n",
       "      <th>5</th>\n",
       "      <td>AES_SHA384[256]</td>\n",
       "      <td>703.895</td>\n",
       "      <td>11.731583</td>\n",
       "      <td>20665220656</td>\n",
       "      <td>2.935839e+07</td>\n",
       "      <td>2583152582</td>\n",
       "      <td>3.669798e+06</td>\n",
       "      <td>20665.220656</td>\n",
       "      <td>29.358385</td>\n",
       "    </tr>\n",
       "    <tr>\n",
       "      <th>4</th>\n",
       "      <td>AES[256]</td>\n",
       "      <td>709.823</td>\n",
       "      <td>11.830383</td>\n",
       "      <td>20665220656</td>\n",
       "      <td>2.911320e+07</td>\n",
       "      <td>2583152582</td>\n",
       "      <td>3.639150e+06</td>\n",
       "      <td>20665.220656</td>\n",
       "      <td>29.113202</td>\n",
       "    </tr>\n",
       "    <tr>\n",
       "      <th>2</th>\n",
       "      <td>AES[128]</td>\n",
       "      <td>711.830</td>\n",
       "      <td>11.863833</td>\n",
       "      <td>20665220656</td>\n",
       "      <td>2.903112e+07</td>\n",
       "      <td>2583152582</td>\n",
       "      <td>3.628890e+06</td>\n",
       "      <td>20665.220656</td>\n",
       "      <td>29.031118</td>\n",
       "    </tr>\n",
       "    <tr>\n",
       "      <th>3</th>\n",
       "      <td>AES[192]</td>\n",
       "      <td>741.676</td>\n",
       "      <td>12.361267</td>\n",
       "      <td>20665220656</td>\n",
       "      <td>2.786287e+07</td>\n",
       "      <td>2583152582</td>\n",
       "      <td>3.482859e+06</td>\n",
       "      <td>20665.220656</td>\n",
       "      <td>27.862868</td>\n",
       "    </tr>\n",
       "    <tr>\n",
       "      <th>6</th>\n",
       "      <td>AES_SHA512[256]</td>\n",
       "      <td>742.977</td>\n",
       "      <td>12.382950</td>\n",
       "      <td>20665220656</td>\n",
       "      <td>2.781408e+07</td>\n",
       "      <td>2583152582</td>\n",
       "      <td>3.476760e+06</td>\n",
       "      <td>20665.220656</td>\n",
       "      <td>27.814079</td>\n",
       "    </tr>\n",
       "    <tr>\n",
       "      <th>0</th>\n",
       "      <td>DES[64]</td>\n",
       "      <td>941.495</td>\n",
       "      <td>15.691583</td>\n",
       "      <td>20665220656</td>\n",
       "      <td>2.194937e+07</td>\n",
       "      <td>2583152582</td>\n",
       "      <td>2.743671e+06</td>\n",
       "      <td>20665.220656</td>\n",
       "      <td>21.949368</td>\n",
       "    </tr>\n",
       "    <tr>\n",
       "      <th>1</th>\n",
       "      <td>DESede[192]</td>\n",
       "      <td>1356.863</td>\n",
       "      <td>22.614383</td>\n",
       "      <td>20665220656</td>\n",
       "      <td>1.523015e+07</td>\n",
       "      <td>2583152582</td>\n",
       "      <td>1.903768e+06</td>\n",
       "      <td>20665.220656</td>\n",
       "      <td>15.230145</td>\n",
       "    </tr>\n",
       "  </tbody>\n",
       "</table>\n",
       "</div>"
      ],
      "text/plain": [
       "            CIPHER  TIME(SEC)  TIME(MIN)   SIZE(BITS)  TASA(BITS/SEC)  \\\n",
       "5  AES_SHA384[256]    703.895  11.731583  20665220656    2.935839e+07   \n",
       "4         AES[256]    709.823  11.830383  20665220656    2.911320e+07   \n",
       "2         AES[128]    711.830  11.863833  20665220656    2.903112e+07   \n",
       "3         AES[192]    741.676  12.361267  20665220656    2.786287e+07   \n",
       "6  AES_SHA512[256]    742.977  12.382950  20665220656    2.781408e+07   \n",
       "0          DES[64]    941.495  15.691583  20665220656    2.194937e+07   \n",
       "1      DESede[192]   1356.863  22.614383  20665220656    1.523015e+07   \n",
       "\n",
       "   SIZE(BYTES)  TASA(BYTES/SEC)      SIZE(MB)  TASA(MB/SEC)  \n",
       "5   2583152582     3.669798e+06  20665.220656     29.358385  \n",
       "4   2583152582     3.639150e+06  20665.220656     29.113202  \n",
       "2   2583152582     3.628890e+06  20665.220656     29.031118  \n",
       "3   2583152582     3.482859e+06  20665.220656     27.862868  \n",
       "6   2583152582     3.476760e+06  20665.220656     27.814079  \n",
       "0   2583152582     2.743671e+06  20665.220656     21.949368  \n",
       "1   2583152582     1.903768e+06  20665.220656     15.230145  "
      ]
     },
     "execution_count": 487,
     "metadata": {},
     "output_type": "execute_result"
    }
   ],
   "source": [
    "_info_df = pd.DataFrame(_infos,columns=[\"CIPHER\",\"TIME(SEC)\",\"TIME(MIN)\",\"SIZE(BITS)\",\"TASA(BITS/SEC)\",\"SIZE(BYTES)\",\"TASA(BYTES/SEC)\",\"SIZE(MB)\",\"TASA(MB/SEC)\"])\n",
    "_info_df = _info_df.sort_values(\"TIME(SEC)\",ascending=True)\n",
    "_info_df"
   ]
  },
  {
   "cell_type": "code",
   "execution_count": 488,
   "id": "varied-intake",
   "metadata": {},
   "outputs": [
    {
     "data": {
      "text/plain": [
       "<AxesSubplot:xlabel='CIPHER', ylabel='TIME(SEC)'>"
      ]
     },
     "execution_count": 488,
     "metadata": {},
     "output_type": "execute_result"
    },
    {
     "data": {
      "image/png": "[encoded data removed]",
      "text/plain": [
       "<Figure size 1440x720 with 1 Axes>"
      ]
     },
     "metadata": {},
     "output_type": "display_data"
    }
   ],
   "source": [
    "sns.barplot(x=\"CIPHER\",y=\"TIME(SEC)\",data=_info_df)"
   ]
  },
  {
   "cell_type": "code",
   "execution_count": 489,
   "id": "separated-entrepreneur",
   "metadata": {},
   "outputs": [
    {
     "data": {
      "text/plain": [
       "<AxesSubplot:xlabel='CIPHER', ylabel='TASA(MB/SEC)'>"
      ]
     },
     "execution_count": 489,
     "metadata": {},
     "output_type": "execute_result"
    },
    {
     "data": {
      "image/png": "[encoded data removed]",
      "text/plain": [
       "<Figure size 1440x720 with 1 Axes>"
      ]
     },
     "metadata": {},
     "output_type": "display_data"
    }
   ],
   "source": [
    "sns.barplot(x=\"CIPHER\",y=\"TASA(MB/SEC)\",data=_info_df)"
   ]
  }
 ],
 "metadata": {
  "kernelspec": {
   "display_name": "Python 3",
   "language": "python",
   "name": "python3"
  },
  "language_info": {
   "codemirror_mode": {
    "name": "ipython",
    "version": 3
   },
   "file_extension": ".py",
   "mimetype": "text/x-python",
   "name": "python",
   "nbconvert_exporter": "python",
   "pygments_lexer": "ipython3",
   "version": "3.8.5"
  }
 },
 "nbformat": 4,
 "nbformat_minor": 5
}
